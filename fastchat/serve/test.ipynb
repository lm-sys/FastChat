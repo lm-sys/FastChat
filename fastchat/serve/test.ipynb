{
 "cells": [
  {
   "cell_type": "code",
   "execution_count": 8,
   "metadata": {},
   "outputs": [],
   "source": [
    "import requests\n",
    "\n",
    "url = \"https://www.datalab.to/api/v1/marker\"\n",
    "import os\n",
    "\n",
    "form_data = {\n",
    "    \"file\": (\"test.pdf\", open(\"ddsppaper (1).pdf\", \"rb\"), \"application/pdf\"),\n",
    "    \"langs\": (None, \"English\"),\n",
    "    \"force_ocr\": (None, False),\n",
    "    \"paginate\": (None, False),\n",
    "    \"output_format\": (None, \"markdown\"),\n",
    "    \"use_llm\": (None, True),\n",
    "    \"strip_existing_ocr\": (None, False),\n",
    "    \"disable_image_extraction\": (None, False),\n",
    "}\n",
    "\n",
    "headers = {\"X-Api-Key\": \"wAdzo2tLEsd5PzQTtQT4RNZSBM6rJy_LWFTtj8hjbZ0\"}\n",
    "response = requests.post(url, files=form_data, headers=headers)\n",
    "data = response.json()"
   ]
  },
  {
   "cell_type": "code",
   "execution_count": 9,
   "metadata": {},
   "outputs": [
    {
     "name": "stdout",
     "output_type": "stream",
     "text": [
      "{'detail': 'Not authenticated'}\n"
     ]
    }
   ],
   "source": [
    "print(data)"
   ]
  },
  {
   "cell_type": "code",
   "execution_count": 4,
   "metadata": {},
   "outputs": [
    {
     "ename": "KeyError",
     "evalue": "'request_check_url'",
     "output_type": "error",
     "traceback": [
      "\u001b[0;31m---------------------------------------------------------------------------\u001b[0m",
      "\u001b[0;31mKeyError\u001b[0m                                  Traceback (most recent call last)",
      "Cell \u001b[0;32mIn[4], line 2\u001b[0m\n\u001b[1;32m      1\u001b[0m max_polls \u001b[38;5;241m=\u001b[39m \u001b[38;5;241m300\u001b[39m\n\u001b[0;32m----> 2\u001b[0m check_url \u001b[38;5;241m=\u001b[39m data[\u001b[38;5;124m\"\u001b[39m\u001b[38;5;124mrequest_check_url\u001b[39m\u001b[38;5;124m\"\u001b[39m]\n\u001b[1;32m      3\u001b[0m \u001b[38;5;28;01mimport\u001b[39;00m \u001b[38;5;21;01mtime\u001b[39;00m\n\u001b[1;32m      4\u001b[0m \u001b[38;5;28;01mfor\u001b[39;00m i \u001b[38;5;129;01min\u001b[39;00m \u001b[38;5;28mrange\u001b[39m(max_polls):\n",
      "\u001b[0;31mKeyError\u001b[0m: 'request_check_url'"
     ]
    }
   ],
   "source": [
    "max_polls = 300\n",
    "check_url = data[\"request_check_url\"]\n",
    "import time\n",
    "\n",
    "for i in range(max_polls):\n",
    "    time.sleep(2)\n",
    "    response = requests.get(check_url, headers=headers)\n",
    "    data = response.json()\n",
    "\n",
    "    if data[\"status\"] == \"complete\":\n",
    "        break"
   ]
  }
 ],
 "metadata": {
  "kernelspec": {
   "display_name": "Python 3.12.8 ('myenv')",
   "language": "python",
   "name": "python3"
  },
  "language_info": {
   "codemirror_mode": {
    "name": "ipython",
    "version": 3
   },
   "file_extension": ".py",
   "mimetype": "text/x-python",
   "name": "python",
   "nbconvert_exporter": "python",
   "pygments_lexer": "ipython3",
   "version": "3.12.8"
  },
  "orig_nbformat": 4,
  "vscode": {
   "interpreter": {
    "hash": "03c457903a5d26c69a3bb8be9c56ac1ee96fb7ba834b2e69a22fb0607b146481"
   }
  }
 },
 "nbformat": 4,
 "nbformat_minor": 2
}
